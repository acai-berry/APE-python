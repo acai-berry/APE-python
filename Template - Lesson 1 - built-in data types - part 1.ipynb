{
 "cells": [
  {
   "cell_type": "markdown",
   "id": "49588e18",
   "metadata": {},
   "source": [
    "# Python  - introduction and built-in data types - part 1"
   ]
  },
  {
   "cell_type": "markdown",
   "id": "cb01599e",
   "metadata": {},
   "source": [
    "### 1. Variables and constants"
   ]
  },
  {
   "cell_type": "code",
   "execution_count": null,
   "id": "31f23144",
   "metadata": {},
   "outputs": [],
   "source": [
    "snake_case = 'variable'"
   ]
  },
  {
   "cell_type": "code",
   "execution_count": null,
   "id": "1c65a05d",
   "metadata": {},
   "outputs": [],
   "source": [
    "SCREAMING_SNAKE_CASE = 'constant'"
   ]
  },
  {
   "cell_type": "code",
   "execution_count": null,
   "id": "e627f62e",
   "metadata": {},
   "outputs": [],
   "source": [
    "print(snake_case)"
   ]
  },
  {
   "cell_type": "markdown",
   "id": "8f90ba09",
   "metadata": {},
   "source": [
    "### 2. Main built-in data types in Python"
   ]
  },
  {
   "cell_type": "markdown",
   "id": "8c1966f2",
   "metadata": {},
   "source": [
    "#### a. numeric"
   ]
  },
  {
   "cell_type": "code",
   "execution_count": null,
   "id": "cfeb33a4",
   "metadata": {},
   "outputs": [],
   "source": [
    "days_in_year = 365 #integer"
   ]
  },
  {
   "cell_type": "code",
   "execution_count": null,
   "id": "a0b19fb0",
   "metadata": {},
   "outputs": [],
   "source": [
    "degrees = -3 #integer"
   ]
  },
  {
   "cell_type": "code",
   "execution_count": null,
   "id": "914078dd",
   "metadata": {},
   "outputs": [],
   "source": [
    "seven_an_a_half = 7.5 #float"
   ]
  },
  {
   "cell_type": "markdown",
   "id": "7eff2035",
   "metadata": {},
   "source": [
    "QUESTION - what data type do we get if we make operations on float and integer e.g. 7.0 + 9 ?"
   ]
  },
  {
   "cell_type": "code",
   "execution_count": null,
   "id": "793d10cb",
   "metadata": {},
   "outputs": [],
   "source": []
  },
  {
   "cell_type": "markdown",
   "id": "e0aaa568",
   "metadata": {},
   "source": [
    "On the top of classic math operators (- + * /), Python supports few interesting ones:"
   ]
  },
  {
   "cell_type": "code",
   "execution_count": null,
   "id": "e022a7c1",
   "metadata": {},
   "outputs": [],
   "source": [
    "9 // 4 #floor division"
   ]
  },
  {
   "cell_type": "code",
   "execution_count": null,
   "id": "7a31e080",
   "metadata": {},
   "outputs": [],
   "source": [
    "2 ** 3 #Exponentiation - 2 to the power of 3"
   ]
  },
  {
   "cell_type": "code",
   "execution_count": null,
   "id": "4fbb858a",
   "metadata": {},
   "outputs": [],
   "source": [
    "5 % 2 #modulus (result - remainder)"
   ]
  },
  {
   "cell_type": "markdown",
   "id": "e312c6b6",
   "metadata": {},
   "source": [
    "If you want to assign a new value to a variable by modifying the previous one, there is one-liner solution"
   ]
  },
  {
   "cell_type": "code",
   "execution_count": null,
   "id": "f6526d16",
   "metadata": {},
   "outputs": [],
   "source": [
    "a = 1 #assign value\n",
    "a += 1 #increment by 1\n",
    "a #result"
   ]
  },
  {
   "cell_type": "code",
   "execution_count": null,
   "id": "90c33c0f",
   "metadata": {},
   "outputs": [],
   "source": [
    "import math"
   ]
  },
  {
   "cell_type": "code",
   "execution_count": null,
   "id": "6cc59333",
   "metadata": {},
   "outputs": [],
   "source": [
    "number = 32.4456\n",
    "math.ceil(number)"
   ]
  },
  {
   "cell_type": "code",
   "execution_count": null,
   "id": "89941001",
   "metadata": {},
   "outputs": [],
   "source": [
    "round(number, 2)"
   ]
  },
  {
   "cell_type": "markdown",
   "id": "6c1f1768",
   "metadata": {},
   "source": [
    "#### b. text/word/character - all called string"
   ]
  },
  {
   "cell_type": "code",
   "execution_count": null,
   "id": "5f439680",
   "metadata": {},
   "outputs": [],
   "source": [
    "sentence = 'Python is awesome' #string\n",
    "word = 'word' #string\n",
    "letter = 'a' #string"
   ]
  },
  {
   "cell_type": "markdown",
   "id": "347c54d9",
   "metadata": {},
   "source": [
    "QUESTION - what data type is '5'?"
   ]
  },
  {
   "cell_type": "code",
   "execution_count": null,
   "id": "51649e25",
   "metadata": {},
   "outputs": [],
   "source": []
  },
  {
   "cell_type": "markdown",
   "id": "2db638e9",
   "metadata": {},
   "source": [
    "QUESTION - can we change data types? String to integer? Integer to float?"
   ]
  },
  {
   "cell_type": "code",
   "execution_count": null,
   "id": "4d222ace",
   "metadata": {},
   "outputs": [],
   "source": []
  },
  {
   "cell_type": "markdown",
   "id": "4cd11c99",
   "metadata": {},
   "source": [
    "QUESTION - what happens if I do sth like 'python' * 5? Experiment, try different things :)"
   ]
  },
  {
   "cell_type": "code",
   "execution_count": null,
   "id": "59ceb5bb",
   "metadata": {},
   "outputs": [],
   "source": []
  },
  {
   "cell_type": "markdown",
   "id": "064ad03a",
   "metadata": {},
   "source": [
    "What one can do with text in Python? Pretty much everything you can think of :)"
   ]
  },
  {
   "cell_type": "code",
   "execution_count": null,
   "id": "2a2a5dc0",
   "metadata": {},
   "outputs": [],
   "source": [
    "book_title = 'this is a Title.'\n",
    "book_title.capitalize()"
   ]
  },
  {
   "cell_type": "code",
   "execution_count": null,
   "id": "bc107fb7",
   "metadata": {},
   "outputs": [],
   "source": [
    "len(book_title)"
   ]
  },
  {
   "cell_type": "markdown",
   "id": "cc4e32b7",
   "metadata": {},
   "source": [
    "<b>IMPORTANT NOTE</b> Why sometimes when we do something in Python with variables we put them in brackets dosth(variable) and sometimes variable.dosth()? Difference between method and function."
   ]
  },
  {
   "cell_type": "markdown",
   "id": "2f4c1999",
   "metadata": {},
   "source": [
    "#### c. Boolean - True or False"
   ]
  },
  {
   "cell_type": "code",
   "execution_count": null,
   "id": "6f593f40",
   "metadata": {},
   "outputs": [],
   "source": [
    "python_awesome = False\n",
    "if python_awesome:\n",
    "    print('Python is awesome')\n",
    "else:\n",
    "    print('Not really')"
   ]
  },
  {
   "cell_type": "markdown",
   "id": "e4ee2be9",
   "metadata": {},
   "source": [
    "<b>TASK: True or False?</b>"
   ]
  },
  {
   "cell_type": "code",
   "execution_count": null,
   "id": "ee036193",
   "metadata": {},
   "outputs": [],
   "source": [
    "1 + 3 > 2 + 5"
   ]
  },
  {
   "cell_type": "code",
   "execution_count": null,
   "id": "8c22aaf5",
   "metadata": {},
   "outputs": [],
   "source": [
    "0 == '0'"
   ]
  },
  {
   "cell_type": "code",
   "execution_count": null,
   "id": "9e6e148c",
   "metadata": {},
   "outputs": [],
   "source": [
    "7 > 9 or 5.5 < 6"
   ]
  },
  {
   "cell_type": "code",
   "execution_count": null,
   "id": "f12ef287",
   "metadata": {},
   "outputs": [],
   "source": [
    "not True and False"
   ]
  },
  {
   "cell_type": "code",
   "execution_count": null,
   "id": "1d0c6932",
   "metadata": {},
   "outputs": [],
   "source": [
    "1 != 0 and (9 / 2) > 0"
   ]
  },
  {
   "cell_type": "code",
   "execution_count": null,
   "id": "eb461a28",
   "metadata": {},
   "outputs": [],
   "source": [
    "not (1 != 10 or 3 == 4)"
   ]
  },
  {
   "cell_type": "code",
   "execution_count": null,
   "id": "202dd469",
   "metadata": {},
   "outputs": [],
   "source": [
    "number = 4\n",
    "if number % 2 == 0:\n",
    "    print('Number is even')\n",
    "else:\n",
    "    print('Number is odd')"
   ]
  },
  {
   "cell_type": "code",
   "execution_count": null,
   "id": "b4a099c0",
   "metadata": {},
   "outputs": [],
   "source": [
    "bool('a')"
   ]
  },
  {
   "cell_type": "code",
   "execution_count": null,
   "id": "fb003d2a",
   "metadata": {},
   "outputs": [],
   "source": [
    "bool('')"
   ]
  },
  {
   "cell_type": "code",
   "execution_count": null,
   "id": "6deb0f3c",
   "metadata": {},
   "outputs": [],
   "source": [
    "'a' in 'Python'"
   ]
  },
  {
   "cell_type": "code",
   "execution_count": null,
   "id": "dc3ca430",
   "metadata": {},
   "outputs": [],
   "source": [
    "'Weekend'.endswith('e')"
   ]
  },
  {
   "cell_type": "markdown",
   "id": "1d50a0a0",
   "metadata": {},
   "source": [
    "<b> TASK: </b> Write code which will decide which size of a pizza you need to order depending on number of people present. If 4 or more - you need a big one. If more than 2 but less than 4 - medium one, if 1 or 2 - a small one. Don't print anything in the if/elif/else statement, instead - assign the result to variable 'pizza_size' and print the value of this variable."
   ]
  },
  {
   "cell_type": "code",
   "execution_count": null,
   "id": "2a974e26",
   "metadata": {},
   "outputs": [],
   "source": []
  },
  {
   "cell_type": "markdown",
   "id": "d86affa3",
   "metadata": {},
   "source": [
    "<b> TASK: </b> Write code which determins if a year is a leap year (PL: 'rok przestępny'). Leap year is every year whose number is perfectly divisible by four - except for years which are both divisible by 100 and not divisible by 400. The second part of the rule effects century years. For example: the century years 1600 and 2000 are leap years, but the century years 1700, 1800, and 1900 are not. You can do it either in if/elif/else block or with just one if and boolean expression. Good luck!"
   ]
  },
  {
   "cell_type": "code",
   "execution_count": null,
   "id": "a5b37ac0",
   "metadata": {},
   "outputs": [],
   "source": []
  }
 ],
 "metadata": {
  "kernelspec": {
   "display_name": "Python 3 (ipykernel)",
   "language": "python",
   "name": "python3"
  },
  "language_info": {
   "codemirror_mode": {
    "name": "ipython",
    "version": 3
   },
   "file_extension": ".py",
   "mimetype": "text/x-python",
   "name": "python",
   "nbconvert_exporter": "python",
   "pygments_lexer": "ipython3",
   "version": "3.9.9"
  }
 },
 "nbformat": 4,
 "nbformat_minor": 5
}
