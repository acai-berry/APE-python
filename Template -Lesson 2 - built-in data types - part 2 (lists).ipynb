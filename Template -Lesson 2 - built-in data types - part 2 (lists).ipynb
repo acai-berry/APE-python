{
 "cells": [
  {
   "cell_type": "markdown",
   "id": "49588e18",
   "metadata": {},
   "source": [
    "# Python  - built-in data types - part 2 - Lists"
   ]
  },
  {
   "cell_type": "markdown",
   "id": "d63ae897",
   "metadata": {},
   "source": [
    "#### - Lists are one of the data types used to store multiple items in a single variable. "
   ]
  },
  {
   "cell_type": "code",
   "execution_count": null,
   "id": "1c65a05d",
   "metadata": {},
   "outputs": [],
   "source": [
    "days_of_week = ['Monday', 'Tuesday', 'Wednesday', 'Thursday', 'Friday', 'Saturday', 'Sunday']"
   ]
  },
  {
   "cell_type": "code",
   "execution_count": null,
   "id": "e627f62e",
   "metadata": {},
   "outputs": [],
   "source": [
    "print(days_of_week)"
   ]
  },
  {
   "cell_type": "markdown",
   "id": "8c1966f2",
   "metadata": {},
   "source": [
    "#### - Lists are ordered. The position on which an item is on the list is called an index. We start counting indexes from 0."
   ]
  },
  {
   "cell_type": "code",
   "execution_count": null,
   "id": "cfeb33a4",
   "metadata": {},
   "outputs": [],
   "source": [
    "days_of_week[0] #index 0"
   ]
  },
  {
   "cell_type": "code",
   "execution_count": null,
   "id": "a0b19fb0",
   "metadata": {},
   "outputs": [],
   "source": [
    "days_of_week[-1] #we can count from the last index too - the last index is -1"
   ]
  },
  {
   "cell_type": "markdown",
   "id": "7eff2035",
   "metadata": {},
   "source": [
    "QUESTION - how to access 'Saturday' from the list?"
   ]
  },
  {
   "cell_type": "code",
   "execution_count": null,
   "id": "793d10cb",
   "metadata": {},
   "outputs": [],
   "source": []
  },
  {
   "cell_type": "markdown",
   "id": "605cd382",
   "metadata": {},
   "source": [
    "We can access part of the list..."
   ]
  },
  {
   "cell_type": "code",
   "execution_count": null,
   "id": "a90897e6",
   "metadata": {},
   "outputs": [],
   "source": [
    "days_of_week[2:4] #note that the element on index 4 is not included!"
   ]
  },
  {
   "cell_type": "markdown",
   "id": "5da69caf",
   "metadata": {},
   "source": [
    "Or create a new list based on the existing one which includes only subset of elements."
   ]
  },
  {
   "cell_type": "code",
   "execution_count": null,
   "id": "7b7f16ad",
   "metadata": {},
   "outputs": [],
   "source": [
    "weekdays = days_of_week[:5]\n",
    "weekdays"
   ]
  },
  {
   "cell_type": "markdown",
   "id": "b7a649e5",
   "metadata": {},
   "source": [
    "<b> TASK: </b> Define variable <b>weekend</b> and assign the relevant days of week to it."
   ]
  },
  {
   "cell_type": "code",
   "execution_count": null,
   "id": "5cc70971",
   "metadata": {},
   "outputs": [],
   "source": []
  },
  {
   "cell_type": "markdown",
   "id": "6bcfb881",
   "metadata": {},
   "source": [
    "It is also possible to define a step and this way e.g. get every second element of a list."
   ]
  },
  {
   "cell_type": "code",
   "execution_count": null,
   "id": "9ec35d45",
   "metadata": {},
   "outputs": [],
   "source": [
    "weekdays[::2]"
   ]
  },
  {
   "cell_type": "markdown",
   "id": "70eb5aa4",
   "metadata": {},
   "source": [
    "You can use this list feature to reverse a list,e.g.:"
   ]
  },
  {
   "cell_type": "code",
   "execution_count": null,
   "id": "7cce7fe4",
   "metadata": {},
   "outputs": [],
   "source": [
    "days_of_week[::-1]"
   ]
  },
  {
   "cell_type": "markdown",
   "id": "323f91e8",
   "metadata": {},
   "source": [
    "<b> TASK: </b> Define a list <b>months</b> including all months and then <b>based on this list</b> get following ones:\n",
    "- list <b>spring</b> - including only March, April and May\n",
    "- list <b>end_of_quarter</b> - including only March, June, September and December (3rd, 6th, 9th and 12th month) \n",
    "- list <b>trips</b> - let's say you're going for a trip in every second month of the second half of the year - create a list which includes only this months."
   ]
  },
  {
   "cell_type": "code",
   "execution_count": null,
   "id": "f2e952ac",
   "metadata": {},
   "outputs": [],
   "source": []
  },
  {
   "cell_type": "code",
   "execution_count": null,
   "id": "6de5f2dd",
   "metadata": {},
   "outputs": [],
   "source": []
  },
  {
   "cell_type": "code",
   "execution_count": null,
   "id": "bd1793d9",
   "metadata": {},
   "outputs": [],
   "source": []
  },
  {
   "cell_type": "markdown",
   "id": "e0aaa568",
   "metadata": {},
   "source": [
    "#### - Elements of the list can be of various data types"
   ]
  },
  {
   "cell_type": "code",
   "execution_count": null,
   "id": "e022a7c1",
   "metadata": {},
   "outputs": [],
   "source": [
    "list1 = ['a', 1, True, 4.0, False, 'test'] #that's a valid list"
   ]
  },
  {
   "cell_type": "code",
   "execution_count": null,
   "id": "7a31e080",
   "metadata": {},
   "outputs": [],
   "source": [
    "type(list1)"
   ]
  },
  {
   "cell_type": "markdown",
   "id": "0a250cfb",
   "metadata": {},
   "source": [
    "#### - How to make a copy of a list? Two options:"
   ]
  },
  {
   "cell_type": "code",
   "execution_count": null,
   "id": "02408238",
   "metadata": {},
   "outputs": [],
   "source": [
    "list2 = list1[:] #option1\n",
    "list2"
   ]
  },
  {
   "cell_type": "code",
   "execution_count": null,
   "id": "89941001",
   "metadata": {},
   "outputs": [],
   "source": [
    "list3 = list(list1) #option2\n",
    "list3"
   ]
  },
  {
   "cell_type": "code",
   "execution_count": null,
   "id": "f6526d16",
   "metadata": {},
   "outputs": [],
   "source": [
    "list1 is list2 #this way we check if the variables refer to the same object"
   ]
  },
  {
   "cell_type": "code",
   "execution_count": null,
   "id": "937c6f7b",
   "metadata": {},
   "outputs": [],
   "source": [
    "list1 == list2 #this way we check if they have the same value"
   ]
  },
  {
   "cell_type": "code",
   "execution_count": null,
   "id": "90c33c0f",
   "metadata": {},
   "outputs": [],
   "source": [
    "id(list1)"
   ]
  },
  {
   "cell_type": "code",
   "execution_count": null,
   "id": "6cc59333",
   "metadata": {},
   "outputs": [],
   "source": [
    "id(list2)"
   ]
  },
  {
   "cell_type": "markdown",
   "id": "6c1f1768",
   "metadata": {},
   "source": [
    "#### -  How to check if something is in the list? 'in' and 'not in' operators"
   ]
  },
  {
   "cell_type": "code",
   "execution_count": null,
   "id": "5f439680",
   "metadata": {},
   "outputs": [],
   "source": [
    "fruits = ['orange', 'apple', 'pear', 'banana']"
   ]
  },
  {
   "cell_type": "code",
   "execution_count": null,
   "id": "51649e25",
   "metadata": {},
   "outputs": [],
   "source": [
    "'orange' in fruits"
   ]
  },
  {
   "cell_type": "code",
   "execution_count": null,
   "id": "15be4f5e",
   "metadata": {},
   "outputs": [],
   "source": [
    "'watermelon' not in fruits"
   ]
  },
  {
   "cell_type": "markdown",
   "id": "2db638e9",
   "metadata": {},
   "source": [
    "#### - Can we modify a list? We can, that makes it a mutable data type!"
   ]
  },
  {
   "cell_type": "code",
   "execution_count": null,
   "id": "a7ebaa40",
   "metadata": {},
   "outputs": [],
   "source": [
    "id(fruits)"
   ]
  },
  {
   "cell_type": "markdown",
   "id": "9676f82a",
   "metadata": {},
   "source": [
    "- by specifying an index"
   ]
  },
  {
   "cell_type": "code",
   "execution_count": null,
   "id": "4d222ace",
   "metadata": {},
   "outputs": [],
   "source": [
    "fruits[0] = 'watermelon'\n",
    "fruits"
   ]
  },
  {
   "cell_type": "code",
   "execution_count": null,
   "id": "44566978",
   "metadata": {},
   "outputs": [],
   "source": [
    "id(fruits)"
   ]
  },
  {
   "cell_type": "markdown",
   "id": "7642d4f6",
   "metadata": {},
   "source": [
    "- by insert method"
   ]
  },
  {
   "cell_type": "code",
   "execution_count": null,
   "id": "59ceb5bb",
   "metadata": {},
   "outputs": [],
   "source": [
    "fruits.insert(1, 'orange')  \n",
    "fruits"
   ]
  },
  {
   "cell_type": "markdown",
   "id": "064ad03a",
   "metadata": {},
   "source": [
    "Insert method takes 2 parameters: </br>\n",
    "<b>- index</b> - the index where the element needs to be inserted </br>\n",
    "<b>- element</b> - this is the element to be inserted in the list"
   ]
  },
  {
   "cell_type": "markdown",
   "id": "1fb68ffe",
   "metadata": {},
   "source": [
    "- by append method"
   ]
  },
  {
   "cell_type": "code",
   "execution_count": null,
   "id": "2a2a5dc0",
   "metadata": {},
   "outputs": [],
   "source": [
    "fruits.append('pineapple')\n",
    "fruits"
   ]
  },
  {
   "cell_type": "markdown",
   "id": "cb7ab7d1",
   "metadata": {},
   "source": [
    "- by remove and pop methods"
   ]
  },
  {
   "cell_type": "code",
   "execution_count": null,
   "id": "481e11fd",
   "metadata": {},
   "outputs": [],
   "source": [
    "fruits.remove('pineapple')\n",
    "fruits"
   ]
  },
  {
   "cell_type": "code",
   "execution_count": null,
   "id": "653165a5",
   "metadata": {},
   "outputs": [],
   "source": [
    "fruits.pop()"
   ]
  },
  {
   "cell_type": "code",
   "execution_count": null,
   "id": "9eef4c5b",
   "metadata": {},
   "outputs": [],
   "source": [
    "fruits"
   ]
  },
  {
   "cell_type": "code",
   "execution_count": null,
   "id": "6f593f40",
   "metadata": {},
   "outputs": [],
   "source": [
    "fruits.pop(1)"
   ]
  },
  {
   "cell_type": "code",
   "execution_count": null,
   "id": "58f66014",
   "metadata": {},
   "outputs": [],
   "source": [
    "fruits"
   ]
  },
  {
   "cell_type": "markdown",
   "id": "e4ee2be9",
   "metadata": {},
   "source": [
    "We can also add two lists together, e.g."
   ]
  },
  {
   "cell_type": "code",
   "execution_count": null,
   "id": "ee036193",
   "metadata": {},
   "outputs": [],
   "source": [
    "vegetables = ['carrot', 'celery']"
   ]
  },
  {
   "cell_type": "code",
   "execution_count": null,
   "id": "8c22aaf5",
   "metadata": {},
   "outputs": [],
   "source": [
    "shopping_list = fruits + vegetables\n",
    "shopping_list"
   ]
  },
  {
   "cell_type": "markdown",
   "id": "61691c24",
   "metadata": {},
   "source": [
    "Useful functions for lists - The <b>len()</b>, <b>min()</b>, and <b>max()</b> functions:"
   ]
  },
  {
   "cell_type": "code",
   "execution_count": null,
   "id": "f12ef287",
   "metadata": {},
   "outputs": [],
   "source": [
    "numbers = [6, 888, 3, -9, -8.5, 0, 3657]"
   ]
  },
  {
   "cell_type": "code",
   "execution_count": null,
   "id": "f15360ad",
   "metadata": {},
   "outputs": [],
   "source": [
    "len(numbers)"
   ]
  },
  {
   "cell_type": "code",
   "execution_count": null,
   "id": "95fb36b0",
   "metadata": {},
   "outputs": [],
   "source": [
    "min(numbers)"
   ]
  },
  {
   "cell_type": "code",
   "execution_count": null,
   "id": "3091119f",
   "metadata": {},
   "outputs": [],
   "source": [
    "max(numbers)"
   ]
  },
  {
   "cell_type": "markdown",
   "id": "0ff12e44",
   "metadata": {},
   "source": [
    "### - A list can include another list, that's called nested list, often used to define two-dimensional object like game board"
   ]
  },
  {
   "cell_type": "code",
   "execution_count": null,
   "id": "1d0c6932",
   "metadata": {},
   "outputs": [],
   "source": [
    "battleships_board = [['A1', 'A2', 'A3', 'A4', 'A5', 'A6', 'A7', 'A8', 'A9', 'A10'],\n",
    "                     ['B1', 'B2', 'B3', 'B4', 'B5', 'B6', 'B7', 'B8', 'B9', 'B10'],\n",
    "                     ['C1', 'C2', 'C3', 'C4', 'C5', 'C6', 'C7', 'C8', 'C9', 'C10'],\n",
    "                     ['D1', 'D2', 'D3', 'D4', 'D5', 'D6', 'D7', 'D8', 'D9', 'D10'],\n",
    "                     ['E1', 'E2', 'E3', 'E4', 'E5', 'E6', 'E7', 'E8', 'E9', 'E10'],\n",
    "                     ['F1', 'F2', 'F3', 'F4', 'F5', 'F6', 'F7', 'F8', 'F9', 'F10'],\n",
    "                     ['G1', 'G2', 'G3', 'G4', 'G5', 'G6', 'G7', 'G8', 'G9', 'G10'],\n",
    "                     ['H1', 'H2', 'H3', 'H4', 'H5', 'H6', 'H7', 'H8', 'H9', 'H10']]"
   ]
  },
  {
   "cell_type": "code",
   "execution_count": null,
   "id": "eb461a28",
   "metadata": {},
   "outputs": [],
   "source": [
    "#by the way, we will soon learn how to compute such repetitive tasks as writing the above manually, \n",
    "#e.g. such board can be computed in Python using simple code below\n",
    "\n",
    "columns = ['A', 'B', 'C', 'D', 'E', 'F', 'G', 'H']\n",
    "\n",
    "battleships_board = []\n",
    "for column in columns:\n",
    "    rows = []\n",
    "    for row in range(1,11):\n",
    "        rows.append(column + str(row))\n",
    "    battleships_board.append(rows)\n",
    "\n",
    "battleships_board"
   ]
  },
  {
   "cell_type": "markdown",
   "id": "ac1fe146",
   "metadata": {},
   "source": [
    "How to get a certain field? First, you need to provide an index of the outter list, then the one inside, e.g. "
   ]
  },
  {
   "cell_type": "code",
   "execution_count": null,
   "id": "b4a099c0",
   "metadata": {},
   "outputs": [],
   "source": [
    "battleships_board[0][0] #the first element"
   ]
  },
  {
   "cell_type": "code",
   "execution_count": null,
   "id": "fb003d2a",
   "metadata": {},
   "outputs": [],
   "source": [
    "battleships_board[-1][-1]"
   ]
  },
  {
   "cell_type": "code",
   "execution_count": null,
   "id": "6deb0f3c",
   "metadata": {},
   "outputs": [],
   "source": [
    "battleships_board[2][4] #when we want to get C5 "
   ]
  },
  {
   "cell_type": "markdown",
   "id": "d9661001",
   "metadata": {},
   "source": [
    "<b> TASK 1: </b> You're given list of programming languages (below), check if 'Java' is there, if not, add it."
   ]
  },
  {
   "cell_type": "code",
   "execution_count": null,
   "id": "1f48c063",
   "metadata": {},
   "outputs": [],
   "source": [
    "programming_languages = ['Ruby', 'Go', 'Python', 'Javascript', 'PHP']"
   ]
  },
  {
   "cell_type": "markdown",
   "id": "d86affa3",
   "metadata": {},
   "source": [
    "<b> TASK 2: </b> Check the list of series below, remove the ones you wouldn't like to watch, add one or two you would like to see."
   ]
  },
  {
   "cell_type": "code",
   "execution_count": null,
   "id": "a5b37ac0",
   "metadata": {},
   "outputs": [],
   "source": [
    "series = ['Umbrella Academy', 'The Crown', 'Pose', 'Witcher']"
   ]
  },
  {
   "cell_type": "markdown",
   "id": "cc2f163c",
   "metadata": {},
   "source": [
    "<b> TASK 3: </b> Check the lenght of the list below, if it's longer than 7, remove the last element."
   ]
  },
  {
   "cell_type": "code",
   "execution_count": null,
   "id": "80f529fb",
   "metadata": {},
   "outputs": [],
   "source": [
    "numbers = [5, 4, 7, 9, 40, 10, 44, 66]"
   ]
  },
  {
   "cell_type": "markdown",
   "id": "80d114cb",
   "metadata": {},
   "source": [
    "<b>TASK 4: </b> Imagine that the structure below represents a chest of drawers (from code perspective - that's a list which includes other empty lists (each represents a drawer)), put a word 'pen' to the drawer in the middle."
   ]
  },
  {
   "cell_type": "code",
   "execution_count": null,
   "id": "152eb0d8",
   "metadata": {},
   "outputs": [],
   "source": [
    "chest_of_drawers = [[],[],[],\n",
    "                    [],[],[],\n",
    "                    [],[],[]]"
   ]
  }
 ],
 "metadata": {
  "kernelspec": {
   "display_name": "Python 3 (ipykernel)",
   "language": "python",
   "name": "python3"
  },
  "language_info": {
   "codemirror_mode": {
    "name": "ipython",
    "version": 3
   },
   "file_extension": ".py",
   "mimetype": "text/x-python",
   "name": "python",
   "nbconvert_exporter": "python",
   "pygments_lexer": "ipython3",
   "version": "3.9.9"
  }
 },
 "nbformat": 4,
 "nbformat_minor": 5
}
